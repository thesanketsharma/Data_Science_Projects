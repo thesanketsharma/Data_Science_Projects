{
 "cells": [
  {
   "cell_type": "markdown",
   "id": "28b167db-ac92-46dd-ab69-b7b80778e2c1",
   "metadata": {},
   "source": [
    "# Image to text convertor for OCR images\n",
    "\n",
    "### Prerequisites:\n",
    "run these commands in linux terminal first \n",
    "<pre><code>\n",
    "    sudo apt-get update\n",
    "    sudo apt install tesseract-ocr\n",
    "</code></pre>\n"
   ]
  },
  {
   "cell_type": "code",
   "execution_count": 1,
   "id": "9912a426-8daf-4e5c-ab6a-73ac643f67d1",
   "metadata": {},
   "outputs": [],
   "source": [
    "import pytesseract\n",
    "from PIL import Image\n"
   ]
  },
  {
   "cell_type": "code",
   "execution_count": 2,
   "id": "3d2d8d5c-d757-4703-a4fb-6796ba1b8698",
   "metadata": {},
   "outputs": [],
   "source": [
    "# Path to Tesseract executable (change this if necessary)\n",
    "# path can be checked in linux using 'which tesseract' command\n",
    "pytesseract.pytesseract.tesseract_cmd = r\"/usr/bin/tesseract\"     "
   ]
  },
  {
   "cell_type": "code",
   "execution_count": 3,
   "id": "f8c1d42c-ce16-4eb4-b48d-ce5e4056f1c8",
   "metadata": {},
   "outputs": [],
   "source": [
    "# function to extract text from image\n",
    "def convert_image_to_text(image_path):\n",
    "    # Open the image file using PIL\n",
    "    image = Image.open(image_path)\n",
    "    # Perform OCR using Tesseract\n",
    "    text = pytesseract.image_to_string(image)\n",
    "    return text\n",
    "\n"
   ]
  },
  {
   "cell_type": "code",
   "execution_count": 6,
   "id": "27ea99e6-5d98-4856-aed6-b99c0f2c36b9",
   "metadata": {},
   "outputs": [],
   "source": [
    "# Path to the optical image file, input file path\n",
    "image_path = \"testpic3.jpg\"\n",
    "\n"
   ]
  },
  {
   "cell_type": "code",
   "execution_count": 7,
   "id": "3a1f27bf-2c9b-4678-8663-691ee4f557bf",
   "metadata": {},
   "outputs": [
    {
     "name": "stdout",
     "output_type": "stream",
     "text": [
      "0:42 | 12.9KB/s Z © O B wall tl ZS GD:\n",
      "\n",
      "Senior Consultant - IT -\n",
      "Audit-HMS029854\n",
      "\n",
      "Genpact\n",
      "Gurugram, Haryana, India (On-site)\n",
      "\n",
      "1 week ago * 94 applicants\n",
      "YJ Full-time - Associate\n",
      "\n",
      "10,001+ employees - IT Services and IT Consulting\n",
      "\n",
      "-D 7 connections work here - 41 company alumni work\n",
      "here - 622 school alumni work here\n",
      "\n",
      "29: See how you compare to 94 applicants. Try\n",
      "~ Premium for free\n",
      "\n",
      "vs\n",
      "\n",
      "Y= Skills: ITGC, COSO, +8 more\n",
      "\n",
      "apply\n",
      "\n",
      "Job Description\n",
      "\n",
      "With a startup spirit and 90,000+ curious and courageous\n",
      "minds, we have the expertise to go deep with the world’s\n",
      "biggest brands—and we have fun doing it. We dream in\n",
      "digital, dare in reality, and reinvent the ways companies\n",
      "work to make an impact far bigger than just our bottom\n",
      "line. We're harnessing the power of technology and\n",
      "humanity to create meaningful transformation that moves\n",
      "us forward in our pursuit of a world that works better for\n",
      "people. Now, we're calling upon the thinkers and doers,\n",
      "those with a natural curiosity and a hunger to keep\n",
      "learning, keep growina.. People who thrive on fearlessly\n",
      "\f",
      "\n"
     ]
    }
   ],
   "source": [
    "# Convert the image to text\n",
    "result = convert_image_to_text(image_path)\n",
    "\n",
    "# Print the extracted text\n",
    "print(result)"
   ]
  },
  {
   "cell_type": "code",
   "execution_count": null,
   "id": "407ef488-c4ca-4e93-9b85-0b8303b502f9",
   "metadata": {},
   "outputs": [],
   "source": []
  }
 ],
 "metadata": {
  "kernelspec": {
   "display_name": "Python 3 (ipykernel)",
   "language": "python",
   "name": "python3"
  },
  "language_info": {
   "codemirror_mode": {
    "name": "ipython",
    "version": 3
   },
   "file_extension": ".py",
   "mimetype": "text/x-python",
   "name": "python",
   "nbconvert_exporter": "python",
   "pygments_lexer": "ipython3",
   "version": "3.9.7"
  }
 },
 "nbformat": 4,
 "nbformat_minor": 5
}
