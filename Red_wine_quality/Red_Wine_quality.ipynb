{
 "cells": [
  {
   "cell_type": "markdown",
   "id": "329d463e",
   "metadata": {},
   "source": [
    "# Red Wine Quality Prediction\n",
    " By: Sanket Sharma, Email:ur.sanketsharma@gmail.com, Linkedin: https://www.linkedin.com/in/ursanketsharma"
   ]
  },
  {
   "cell_type": "code",
   "execution_count": 20,
   "id": "e549adbb",
   "metadata": {},
   "outputs": [],
   "source": [
    "#import necessary libraries\n",
    "import pandas as pd\n",
    "import numpy as np\n",
    "import matplotlib.pyplot as plt\n",
    "import seaborn as sns\n",
    "from sklearn.model_selection import train_test_split\n",
    "import sklearn.metrics as matrics\n",
    "from sklearn.linear_model import LogisticRegression\n",
    "from sklearn.tree import DecisionTreeClassifier\n",
    "from sklearn.ensemble import RandomForestClassifier\n",
    "from sklearn.ensemble import ExtraTreesClassifier\n",
    "from sklearn.ensemble import AdaBoostClassifier\n",
    "from sklearn.svm import SVC\n",
    "from sklearn.naive_bayes import GaussianNB\n",
    "from sklearn.ensemble import GradientBoostingClassifier"
   ]
  },
  {
   "cell_type": "code",
   "execution_count": 21,
   "id": "9104b204",
   "metadata": {},
   "outputs": [
    {
     "data": {
      "text/html": [
       "<div>\n",
       "<style scoped>\n",
       "    .dataframe tbody tr th:only-of-type {\n",
       "        vertical-align: middle;\n",
       "    }\n",
       "\n",
       "    .dataframe tbody tr th {\n",
       "        vertical-align: top;\n",
       "    }\n",
       "\n",
       "    .dataframe thead th {\n",
       "        text-align: right;\n",
       "    }\n",
       "</style>\n",
       "<table border=\"1\" class=\"dataframe\">\n",
       "  <thead>\n",
       "    <tr style=\"text-align: right;\">\n",
       "      <th></th>\n",
       "      <th>fixed acidity</th>\n",
       "      <th>volatile acidity</th>\n",
       "      <th>citric acid</th>\n",
       "      <th>residual sugar</th>\n",
       "      <th>chlorides</th>\n",
       "      <th>free sulfur dioxide</th>\n",
       "      <th>total sulfur dioxide</th>\n",
       "      <th>density</th>\n",
       "      <th>pH</th>\n",
       "      <th>sulphates</th>\n",
       "      <th>alcohol</th>\n",
       "      <th>quality</th>\n",
       "    </tr>\n",
       "  </thead>\n",
       "  <tbody>\n",
       "    <tr>\n",
       "      <th>0</th>\n",
       "      <td>7.4</td>\n",
       "      <td>0.70</td>\n",
       "      <td>0.00</td>\n",
       "      <td>1.9</td>\n",
       "      <td>0.076</td>\n",
       "      <td>11.0</td>\n",
       "      <td>34.0</td>\n",
       "      <td>0.9978</td>\n",
       "      <td>3.51</td>\n",
       "      <td>0.56</td>\n",
       "      <td>9.4</td>\n",
       "      <td>5</td>\n",
       "    </tr>\n",
       "    <tr>\n",
       "      <th>1</th>\n",
       "      <td>7.8</td>\n",
       "      <td>0.88</td>\n",
       "      <td>0.00</td>\n",
       "      <td>2.6</td>\n",
       "      <td>0.098</td>\n",
       "      <td>25.0</td>\n",
       "      <td>67.0</td>\n",
       "      <td>0.9968</td>\n",
       "      <td>3.20</td>\n",
       "      <td>0.68</td>\n",
       "      <td>9.8</td>\n",
       "      <td>5</td>\n",
       "    </tr>\n",
       "    <tr>\n",
       "      <th>2</th>\n",
       "      <td>7.8</td>\n",
       "      <td>0.76</td>\n",
       "      <td>0.04</td>\n",
       "      <td>2.3</td>\n",
       "      <td>0.092</td>\n",
       "      <td>15.0</td>\n",
       "      <td>54.0</td>\n",
       "      <td>0.9970</td>\n",
       "      <td>3.26</td>\n",
       "      <td>0.65</td>\n",
       "      <td>9.8</td>\n",
       "      <td>5</td>\n",
       "    </tr>\n",
       "    <tr>\n",
       "      <th>3</th>\n",
       "      <td>11.2</td>\n",
       "      <td>0.28</td>\n",
       "      <td>0.56</td>\n",
       "      <td>1.9</td>\n",
       "      <td>0.075</td>\n",
       "      <td>17.0</td>\n",
       "      <td>60.0</td>\n",
       "      <td>0.9980</td>\n",
       "      <td>3.16</td>\n",
       "      <td>0.58</td>\n",
       "      <td>9.8</td>\n",
       "      <td>6</td>\n",
       "    </tr>\n",
       "    <tr>\n",
       "      <th>4</th>\n",
       "      <td>7.4</td>\n",
       "      <td>0.70</td>\n",
       "      <td>0.00</td>\n",
       "      <td>1.9</td>\n",
       "      <td>0.076</td>\n",
       "      <td>11.0</td>\n",
       "      <td>34.0</td>\n",
       "      <td>0.9978</td>\n",
       "      <td>3.51</td>\n",
       "      <td>0.56</td>\n",
       "      <td>9.4</td>\n",
       "      <td>5</td>\n",
       "    </tr>\n",
       "  </tbody>\n",
       "</table>\n",
       "</div>"
      ],
      "text/plain": [
       "   fixed acidity  volatile acidity  citric acid  residual sugar  chlorides  \\\n",
       "0            7.4              0.70         0.00             1.9      0.076   \n",
       "1            7.8              0.88         0.00             2.6      0.098   \n",
       "2            7.8              0.76         0.04             2.3      0.092   \n",
       "3           11.2              0.28         0.56             1.9      0.075   \n",
       "4            7.4              0.70         0.00             1.9      0.076   \n",
       "\n",
       "   free sulfur dioxide  total sulfur dioxide  density    pH  sulphates  \\\n",
       "0                 11.0                  34.0   0.9978  3.51       0.56   \n",
       "1                 25.0                  67.0   0.9968  3.20       0.68   \n",
       "2                 15.0                  54.0   0.9970  3.26       0.65   \n",
       "3                 17.0                  60.0   0.9980  3.16       0.58   \n",
       "4                 11.0                  34.0   0.9978  3.51       0.56   \n",
       "\n",
       "   alcohol  quality  \n",
       "0      9.4        5  \n",
       "1      9.8        5  \n",
       "2      9.8        5  \n",
       "3      9.8        6  \n",
       "4      9.4        5  "
      ]
     },
     "execution_count": 21,
     "metadata": {},
     "output_type": "execute_result"
    }
   ],
   "source": [
    "# load dataset\n",
    "df = pd.read_csv(\"Data/winequality-red.csv\")\n",
    "df.head()\n"
   ]
  },
  {
   "cell_type": "code",
   "execution_count": 22,
   "id": "5b97ff0e",
   "metadata": {},
   "outputs": [
    {
     "name": "stdout",
     "output_type": "stream",
     "text": [
      "<class 'pandas.core.frame.DataFrame'>\n",
      "RangeIndex: 1599 entries, 0 to 1598\n",
      "Data columns (total 12 columns):\n",
      " #   Column                Non-Null Count  Dtype  \n",
      "---  ------                --------------  -----  \n",
      " 0   fixed acidity         1599 non-null   float64\n",
      " 1   volatile acidity      1599 non-null   float64\n",
      " 2   citric acid           1599 non-null   float64\n",
      " 3   residual sugar        1599 non-null   float64\n",
      " 4   chlorides             1599 non-null   float64\n",
      " 5   free sulfur dioxide   1599 non-null   float64\n",
      " 6   total sulfur dioxide  1599 non-null   float64\n",
      " 7   density               1599 non-null   float64\n",
      " 8   pH                    1599 non-null   float64\n",
      " 9   sulphates             1599 non-null   float64\n",
      " 10  alcohol               1599 non-null   float64\n",
      " 11  quality               1599 non-null   int64  \n",
      "dtypes: float64(11), int64(1)\n",
      "memory usage: 150.0 KB\n",
      "None\n",
      "Missing Values\n",
      "\n",
      "fixed acidity           0\n",
      "volatile acidity        0\n",
      "citric acid             0\n",
      "residual sugar          0\n",
      "chlorides               0\n",
      "free sulfur dioxide     0\n",
      "total sulfur dioxide    0\n",
      "density                 0\n",
      "pH                      0\n",
      "sulphates               0\n",
      "alcohol                 0\n",
      "quality                 0\n",
      "dtype: int64\n"
     ]
    }
   ],
   "source": [
    "# check info about dataset\n",
    "print(df.info())\n",
    "print(\"Missing Values\\n\")\n",
    "print(df.isna().sum())"
   ]
  },
  {
   "cell_type": "markdown",
   "id": "3cf9220b",
   "metadata": {},
   "source": [
    "All features are numeric, No missing values"
   ]
  },
  {
   "cell_type": "code",
   "execution_count": 23,
   "id": "42d2f430",
   "metadata": {},
   "outputs": [
    {
     "name": "stdout",
     "output_type": "stream",
     "text": [
      "quality\n",
      "5    681\n",
      "6    638\n",
      "7    199\n",
      "4     53\n",
      "8     18\n",
      "3     10\n",
      "dtype: int64\n"
     ]
    }
   ],
   "source": [
    "# check numbers of each class in quality Column\n",
    "print(df.value_counts(\"quality\"))"
   ]
  },
  {
   "cell_type": "code",
   "execution_count": 24,
   "id": "1c69c633",
   "metadata": {},
   "outputs": [],
   "source": [
    "# Lets make them 0:bad, 1:Average, 2: Good\n",
    "df['quality'] = [2 if x >= 7 else 1 if x>=5 else 0 for x in df['quality']]"
   ]
  },
  {
   "cell_type": "code",
   "execution_count": 25,
   "id": "d1c779ac",
   "metadata": {},
   "outputs": [
    {
     "data": {
      "text/plain": [
       "quality\n",
       "1    1319\n",
       "2     217\n",
       "0      63\n",
       "dtype: int64"
      ]
     },
     "execution_count": 25,
     "metadata": {},
     "output_type": "execute_result"
    }
   ],
   "source": [
    "df.value_counts('quality')"
   ]
  },
  {
   "cell_type": "code",
   "execution_count": 26,
   "id": "75f28df3",
   "metadata": {},
   "outputs": [],
   "source": [
    "# input fcolumns vs output column\n",
    "X = df.drop('quality', axis=1)\n",
    "y = df['quality']"
   ]
  },
  {
   "cell_type": "code",
   "execution_count": 27,
   "id": "da88330b",
   "metadata": {},
   "outputs": [],
   "source": [
    "# Train test split\n",
    "seed = 42\n",
    "X_train, X_test, y_train, y_test = train_test_split(X, y, random_state=seed, test_size=0.2)"
   ]
  },
  {
   "cell_type": "code",
   "execution_count": 28,
   "id": "6ba6cb3e",
   "metadata": {},
   "outputs": [
    {
     "data": {
      "text/plain": [
       "(1279,)"
      ]
     },
     "execution_count": 28,
     "metadata": {},
     "output_type": "execute_result"
    }
   ],
   "source": [
    "y_train.shape"
   ]
  },
  {
   "cell_type": "code",
   "execution_count": 29,
   "id": "0763b9c4",
   "metadata": {},
   "outputs": [],
   "source": [
    "# Lets make a Dictionary of all Models    "
   ]
  },
  {
   "cell_type": "code",
   "execution_count": 30,
   "id": "22e835b4",
   "metadata": {},
   "outputs": [],
   "source": [
    "Models = {\"DecisionTree\": DecisionTreeClassifier(random_state=seed), \n",
    "         \"RandomForest\": RandomForestClassifier(random_state=seed),\n",
    "        \"ExtraTrees\": ExtraTreesClassifier(random_state=seed),\n",
    "        \"AdaBoost\": AdaBoostClassifier(random_state=seed),\n",
    "        \"GBC\": GradientBoostingClassifier(random_state=seed),\n",
    "        \"GNB\": GaussianNB()}"
   ]
  },
  {
   "cell_type": "code",
   "execution_count": 31,
   "id": "d6a38641",
   "metadata": {},
   "outputs": [],
   "source": [
    "# Lets Fit each model in Models dictionary and get their scor4es in scores list"
   ]
  },
  {
   "cell_type": "code",
   "execution_count": 32,
   "id": "f2a000f0",
   "metadata": {},
   "outputs": [
    {
     "name": "stdout",
     "output_type": "stream",
     "text": [
      "Model Name: DecisionTreeClassifier(random_state=42)\n",
      "\n",
      "F1_score: 0.784375\n",
      "\n",
      "Accuray:0.784375\n",
      "\n",
      "Confusin Matrix: \n",
      "\n",
      "[[  1  10   0]\n",
      " [ 13 222  27]\n",
      " [  1  18  28]]\n",
      "\n",
      "*****************************\n",
      "\n",
      "Model Name: RandomForestClassifier(random_state=42)\n",
      "\n",
      "F1_score: 0.865625\n",
      "\n",
      "Accuray:0.865625\n",
      "\n",
      "Confusin Matrix: \n",
      "\n",
      "[[  0  11   0]\n",
      " [  0 251  11]\n",
      " [  0  21  26]]\n",
      "\n",
      "*****************************\n",
      "\n",
      "Model Name: ExtraTreesClassifier(random_state=42)\n",
      "\n",
      "F1_score: 0.8843749999999999\n",
      "\n",
      "Accuray:0.884375\n",
      "\n",
      "Confusin Matrix: \n",
      "\n",
      "[[  0  11   0]\n",
      " [  0 257   5]\n",
      " [  0  21  26]]\n",
      "\n",
      "*****************************\n",
      "\n",
      "Model Name: AdaBoostClassifier(random_state=42)\n",
      "\n",
      "F1_score: 0.7281249999999999\n",
      "\n",
      "Accuray:0.728125\n",
      "\n",
      "Confusin Matrix: \n",
      "\n",
      "[[  2   9   0]\n",
      " [ 28 205  29]\n",
      " [  0  21  26]]\n",
      "\n",
      "*****************************\n",
      "\n",
      "Model Name: GradientBoostingClassifier(random_state=42)\n",
      "\n",
      "F1_score: 0.85\n",
      "\n",
      "Accuray:0.85\n",
      "\n",
      "Confusin Matrix: \n",
      "\n",
      "[[  1  10   0]\n",
      " [  3 249  10]\n",
      " [  0  25  22]]\n",
      "\n",
      "*****************************\n",
      "\n",
      "Model Name: GaussianNB()\n",
      "\n",
      "F1_score: 0.815625\n",
      "\n",
      "Accuray:0.815625\n",
      "\n",
      "Confusin Matrix: \n",
      "\n",
      "[[  2   9   0]\n",
      " [  5 222  35]\n",
      " [  0  10  37]]\n",
      "\n",
      "*****************************\n",
      "\n"
     ]
    }
   ],
   "source": [
    "scores= []\n",
    "for name, model in Models.items():\n",
    "    model.fit(X_train, y_train)\n",
    "    pred = model.predict(X_test)\n",
    "    accuracy_score = matrics.accuracy_score(y_test, pred)\n",
    "    print(\"Model Name: \"+str(model)+\"\\n\")\n",
    "    print(\"F1_score: \"+str(matrics.f1_score(y_test, pred, average='micro'))+\"\\n\")\n",
    "    print(\"Accuray:\"+str(matrics.accuracy_score(y_test, pred))+\"\\n\")\n",
    "    print(\"Confusin Matrix: \\n\")\n",
    "    print(matrics.confusion_matrix(y_test, pred))\n",
    "    scores.append({\n",
    "        'model': name,\n",
    "        'accuracy_score': accuracy_score\n",
    "    })\n",
    "    print(\"\\n*****************************\\n\")"
   ]
  },
  {
   "cell_type": "code",
   "execution_count": 33,
   "id": "3d93abdd",
   "metadata": {},
   "outputs": [
    {
     "data": {
      "text/html": [
       "<div>\n",
       "<style scoped>\n",
       "    .dataframe tbody tr th:only-of-type {\n",
       "        vertical-align: middle;\n",
       "    }\n",
       "\n",
       "    .dataframe tbody tr th {\n",
       "        vertical-align: top;\n",
       "    }\n",
       "\n",
       "    .dataframe thead th {\n",
       "        text-align: right;\n",
       "    }\n",
       "</style>\n",
       "<table border=\"1\" class=\"dataframe\">\n",
       "  <thead>\n",
       "    <tr style=\"text-align: right;\">\n",
       "      <th></th>\n",
       "      <th>model</th>\n",
       "      <th>accuracy_score</th>\n",
       "    </tr>\n",
       "  </thead>\n",
       "  <tbody>\n",
       "    <tr>\n",
       "      <th>2</th>\n",
       "      <td>ExtraTrees</td>\n",
       "      <td>0.884375</td>\n",
       "    </tr>\n",
       "    <tr>\n",
       "      <th>1</th>\n",
       "      <td>RandomForest</td>\n",
       "      <td>0.865625</td>\n",
       "    </tr>\n",
       "    <tr>\n",
       "      <th>4</th>\n",
       "      <td>GBC</td>\n",
       "      <td>0.850000</td>\n",
       "    </tr>\n",
       "    <tr>\n",
       "      <th>5</th>\n",
       "      <td>GNB</td>\n",
       "      <td>0.815625</td>\n",
       "    </tr>\n",
       "    <tr>\n",
       "      <th>0</th>\n",
       "      <td>DecisionTree</td>\n",
       "      <td>0.784375</td>\n",
       "    </tr>\n",
       "    <tr>\n",
       "      <th>3</th>\n",
       "      <td>AdaBoost</td>\n",
       "      <td>0.728125</td>\n",
       "    </tr>\n",
       "  </tbody>\n",
       "</table>\n",
       "</div>"
      ],
      "text/plain": [
       "          model  accuracy_score\n",
       "2    ExtraTrees        0.884375\n",
       "1  RandomForest        0.865625\n",
       "4           GBC        0.850000\n",
       "5           GNB        0.815625\n",
       "0  DecisionTree        0.784375\n",
       "3      AdaBoost        0.728125"
      ]
     },
     "execution_count": 33,
     "metadata": {},
     "output_type": "execute_result"
    }
   ],
   "source": [
    "# Lets arrange theese scores in descending order to find the best Model\n",
    "scores_df = pd.DataFrame(scores)\n",
    "scores_df.sort_values(by='accuracy_score', ascending=False)"
   ]
  },
  {
   "cell_type": "markdown",
   "id": "501b37da",
   "metadata": {},
   "source": [
    "    ExtraTrees is best Model here by accuracy."
   ]
  },
  {
   "cell_type": "code",
   "execution_count": 34,
   "id": "6ef19625",
   "metadata": {},
   "outputs": [],
   "source": [
    "# lets use extartrees as final model to make prediction \n",
    "final_model = ExtraTreesClassifier(random_state=seed)\n",
    "classifier = final_model.fit(X_train, y_train)"
   ]
  },
  {
   "cell_type": "code",
   "execution_count": 35,
   "id": "2a95d443",
   "metadata": {},
   "outputs": [],
   "source": [
    "# Lets create a pickle file of this model\n",
    "\n",
    "import pickle\n",
    "pickle_out = open(\"PKL/classifier.pkl\", \"wb\")\n",
    "pickle.dump(classifier, pickle_out)\n",
    "pickle_out.close()"
   ]
  },
  {
   "cell_type": "code",
   "execution_count": 36,
   "id": "36f48e8c",
   "metadata": {},
   "outputs": [],
   "source": [
    "pickle_in =open('PKL/classifier.pkl', 'rb')\n",
    "classifier = pickle.load(pickle_in)"
   ]
  },
  {
   "cell_type": "code",
   "execution_count": 37,
   "id": "f484dc96",
   "metadata": {},
   "outputs": [
    {
     "name": "stdout",
     "output_type": "stream",
     "text": [
      "[1]\n"
     ]
    }
   ],
   "source": [
    "prediction=classifier.predict([[11.2,0.28,0.56,1.9,0.075,17.0,60.0,0.998,3.16,0.58,9.8]])\n",
    "print(prediction)"
   ]
  },
  {
   "cell_type": "code",
   "execution_count": 38,
   "id": "60fe6ca7",
   "metadata": {},
   "outputs": [],
   "source": [
    "pickle_in.close()"
   ]
  },
  {
   "cell_type": "code",
   "execution_count": null,
   "id": "ae8cb9a4",
   "metadata": {},
   "outputs": [],
   "source": []
  }
 ],
 "metadata": {
  "kernelspec": {
   "display_name": "Python 3",
   "language": "python",
   "name": "python3"
  },
  "language_info": {
   "codemirror_mode": {
    "name": "ipython",
    "version": 3
   },
   "file_extension": ".py",
   "mimetype": "text/x-python",
   "name": "python",
   "nbconvert_exporter": "python",
   "pygments_lexer": "ipython3",
   "version": "3.8.8"
  }
 },
 "nbformat": 4,
 "nbformat_minor": 5
}
